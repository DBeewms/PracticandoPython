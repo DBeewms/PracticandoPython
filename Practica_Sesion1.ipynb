{
  "nbformat": 4,
  "nbformat_minor": 0,
  "metadata": {
    "colab": {
      "provenance": []
    },
    "kernelspec": {
      "name": "python3",
      "display_name": "Python 3"
    },
    "language_info": {
      "name": "python"
    }
  },
  "cells": [
    {
      "cell_type": "markdown",
      "source": [
        "**`Ejercicio`**"
      ],
      "metadata": {
        "id": "5GgVuxR4SYxZ"
      }
    },
    {
      "cell_type": "code",
      "source": [
        "#Leer un numero y decir si es multiplo del otro\n",
        "\n",
        "num1 = int(input(\"Dime un numero: \"))\n",
        "num2 = int(input(\"Dime otro numero: \"))\n",
        "\n",
        "if (num1%num2==0):\n",
        "  print(f\"{num1} es mulitplo de {num2}\")\n",
        "else:\n",
        "  print(\"No es multiplo\")"
      ],
      "metadata": {
        "id": "2MqRiuYdSj0C"
      },
      "execution_count": null,
      "outputs": []
    },
    {
      "cell_type": "code",
      "source": [
        "#Leer un numero del 1 al 5 y decir que dia de la semana es\n",
        "day = int(input(\"Dime un numero del 1 al 5 \"))\n",
        "if(day == 1): print(\"Lunes\")\n",
        "elif(day == 2): print(\"Martes\")\n",
        "elif(day == 3): print(\"Miercoles\")\n",
        "elif(day == 4): print(\"Jueves\")\n",
        "elif(day == 5): print(\"Viernes\")\n",
        "else: print(\"Opcion invalida\")"
      ],
      "metadata": {
        "colab": {
          "base_uri": "https://localhost:8080/"
        },
        "id": "8AFvEV1ZUDL6",
        "outputId": "66a3ff05-53ac-47ef-d8a3-1bc4f8cad30a"
      },
      "execution_count": null,
      "outputs": [
        {
          "output_type": "stream",
          "name": "stdout",
          "text": [
            "Dime un numero del 1 al 5 5\n",
            "Viernes\n"
          ]
        }
      ]
    },
    {
      "cell_type": "code",
      "source": [
        "#Leer un numero y obtener la tabla de multiplicacion\n",
        "\n",
        "number = int(input(\"Introduce un numero: \"))\n",
        "for i in range(1, 13):\n",
        "  print(f\"{number} * {i} = {number*i}\")"
      ],
      "metadata": {
        "id": "0IeZIhj2VJyJ",
        "colab": {
          "base_uri": "https://localhost:8080/"
        },
        "outputId": "4cd397ca-7e59-4dc6-b9a0-085f225724fe"
      },
      "execution_count": 15,
      "outputs": [
        {
          "output_type": "stream",
          "name": "stdout",
          "text": [
            "Introduce un numero: 3\n",
            "3 * 0 = 0\n",
            "3 * 1 = 3\n",
            "3 * 2 = 6\n",
            "3 * 3 = 9\n",
            "3 * 4 = 12\n",
            "3 * 5 = 15\n",
            "3 * 6 = 18\n",
            "3 * 7 = 21\n",
            "3 * 8 = 24\n",
            "3 * 9 = 27\n",
            "3 * 10 = 30\n",
            "3 * 11 = 33\n",
            "3 * 12 = 36\n"
          ]
        }
      ]
    },
    {
      "cell_type": "markdown",
      "source": [
        "**`Comentarios`**"
      ],
      "metadata": {
        "id": "lMW49z7wQAor"
      }
    },
    {
      "cell_type": "code",
      "source": [
        "#Comentario de una linea\n",
        "\n",
        "\"\"\"Comentario\n",
        "de varias\n",
        "lineas\"\"\"\n",
        "\n",
        "x = \"Hola\""
      ],
      "metadata": {
        "id": "9t0mzZ13QGPp"
      },
      "execution_count": null,
      "outputs": []
    },
    {
      "cell_type": "markdown",
      "source": [
        "**`Operadores Aritméticos`**"
      ],
      "metadata": {
        "id": "DpjfmbH1Om0q"
      }
    },
    {
      "cell_type": "code",
      "source": [
        "num1 = int(input(\"Dime un numero \"))\n",
        "num2 = int(input(f\"Dime la potencia a elevar el numero {num1}: \"))\n",
        "\n",
        "#Potencias\n",
        "pot = num1 ** num2\n",
        "print(f\"{pot}\")\n",
        "\n",
        "#Modulo\n",
        "print(num1 % num2)\n",
        "#Division decimal\n",
        "print(num1 / num2)\n",
        "#Division entera\n",
        "print(num1 // num2)\n"
      ],
      "metadata": {
        "colab": {
          "base_uri": "https://localhost:8080/"
        },
        "id": "3ll1rWa7Oy5U",
        "outputId": "8f224d6f-f156-4ba1-e076-26d120aff6ee"
      },
      "execution_count": null,
      "outputs": [
        {
          "output_type": "stream",
          "name": "stdout",
          "text": [
            "Dime un numero 3\n",
            "Dime la potencia a elevar el numero 3: 3\n",
            "27\n"
          ]
        }
      ]
    },
    {
      "cell_type": "code",
      "source": [
        "num1 = int(input(\"Dime un numero \"))\n",
        "num2 = int(input(\"Dime otro numero \"))\n",
        "\n",
        "suma = num1+num2\n",
        "resta = num1-num2\n",
        "producto = num1*num2\n",
        "division = num1/num2\n",
        "\n",
        "\n",
        "print(f\"{num1} + {num2} = {suma}\")\n",
        "print(f\"{num1} - {num2} = {resta}\")\n",
        "print(f\"{num1} * {num2} = {producto}\")\n",
        "print(f\"{num1} / {num2} = {division}\")"
      ],
      "metadata": {
        "colab": {
          "base_uri": "https://localhost:8080/"
        },
        "id": "kwqQlNvDMZI8",
        "outputId": "d50a519f-03b0-4bcc-dbe2-11077b246fbc"
      },
      "execution_count": null,
      "outputs": [
        {
          "output_type": "stream",
          "name": "stdout",
          "text": [
            "Dime un numero 10\n",
            "Dime otro numero 5\n",
            "10 + 5 = 15\n",
            "10 - 5 = 5\n",
            "10 * 5 = 50\n",
            "10 / 5 = 2.0\n"
          ]
        }
      ]
    },
    {
      "cell_type": "code",
      "execution_count": null,
      "metadata": {
        "colab": {
          "base_uri": "https://localhost:8080/"
        },
        "id": "E7ZA-fceC2Lh",
        "outputId": "1cb83519-bfd6-4c26-ae03-7f1caca251e0"
      },
      "outputs": [
        {
          "output_type": "stream",
          "name": "stdout",
          "text": [
            "Hola mundo en Python\n",
            "20\n"
          ]
        }
      ],
      "source": [
        "variable1 = \"Hola mundo en Python\"\n",
        "print(variable1)\n",
        "variable1 = 20\n",
        "print(variable1)"
      ]
    }
  ]
}